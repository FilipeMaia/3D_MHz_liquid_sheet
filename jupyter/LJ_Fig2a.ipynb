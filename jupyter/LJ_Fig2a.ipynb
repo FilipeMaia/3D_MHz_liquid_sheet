{
 "cells": [
  {
   "cell_type": "code",
   "execution_count": 1,
   "id": "19515a2f-9267-4d9a-a8ee-90f9a347d680",
   "metadata": {},
   "outputs": [],
   "source": [
    "import h5py \n",
    "import numpy as np \n",
    "import matplotlib.pyplot as plt \n",
    "from scipy import stats \n",
    "from extra_data import RunDirectory \n",
    "import scipy\n",
    "\n",
    "import seaborn as sns\n",
    "\n",
    "# Apply the default theme\n",
    "sns.set()"
   ]
  },
  {
   "cell_type": "code",
   "execution_count": 2,
   "id": "a8fc46b2",
   "metadata": {},
   "outputs": [
    {
     "name": "stdout",
     "output_type": "stream",
     "text": [
      "/gpfs/exfel/u/scratch/SPB/202202/p003046/filipe/3D_MHz_liquid_sheet/jupyter\n"
     ]
    }
   ],
   "source": [
    "%cd ~/p003046/scratch/filipe/3D_MHz_liquid_sheet/jupyter"
   ]
  },
  {
   "cell_type": "code",
   "execution_count": 3,
   "id": "2d90710a-7a22-494a-b18d-342da4132ed1",
   "metadata": {},
   "outputs": [],
   "source": [
    "import xarray\n",
    "\n",
    "def read_run_sync_trains(r, verbose=True):\n",
    "    #clear_output(wait=False) \n",
    "    #sys.stderr.write(f'Processing run {r}...\\n') \n",
    "    run = RunDirectory(path='/pnfs/xfel.eu/exfel/archive/XFEL/raw/SPB/202202/p003046/r%04d' % (r))  \n",
    "    \n",
    "    # The require_all=True ensures we only get trains which exist for all sources\n",
    "    sel = run.select([\n",
    "        ('SPB_XTD9_XGM/XGM/DOOCS:output', 'data.intensitySa1TD'),\n",
    "        ('SA1_XTD2_XGM/XGM/DOOCS:output', 'data.intensitySa1TD'),\n",
    "        ('SPB_IRU_MOTORS/MDL/DATA_SELECT', '*'),\n",
    "        ('SPB_EXP_ZYLA/CAM/1:daqOutput', 'data.image.pixels'),\n",
    "        ('SPB_IRU_LIQUIDJET/FLOW/BRONKHORST_SAMPLE2','measureCapacity.value'),\n",
    "        ('SPB_IRU_LIQUIDJET/FLOW/BRONKHORST_WASH1','measureCapacity.value'),\n",
    "        ('SPB_IRU_LIQUIDJET/FLOW/BRONKHORST_1','measureCapacity.value'),\n",
    "    ], require_all=True)\n",
    "    if(verbose):\n",
    "        sel.info()\n",
    "    \n",
    "    intensity_sase1_extra = sel['SPB_XTD9_XGM/XGM/DOOCS:output', 'data.intensitySa1TD']\n",
    "    intensity_preattenuator_sase1_extra = sel['SA1_XTD2_XGM/XGM/DOOCS:output', 'data.intensitySa1TD']    \n",
    "    motors_x_extra = sel['SPB_IRU_MOTORS/MDL/DATA_SELECT', 'SPB_IRU_INJMOV_MOTOR_X.actualPosition.value']\n",
    "    motors_y_extra = sel['SPB_IRU_MOTORS/MDL/DATA_SELECT', 'SPB_IRU_INJMOV_MOTOR_Y.actualPosition.value']\n",
    "\n",
    "    # Put the data in xarray\n",
    "    motor_x = motors_x_extra.xarray()\n",
    "    motor_y = motors_y_extra.xarray()\n",
    "    xgm = intensity_sase1_extra.xarray()\n",
    "    xgm2 = intensity_preattenuator_sase1_extra.xarray()\n",
    "    if r < 100:\n",
    "        liquid_flow = sel['SPB_IRU_LIQUIDJET/FLOW/BRONKHORST_WASH1','measureCapacity.value'].xarray()\n",
    "    else:\n",
    "        liquid_flow = sel['SPB_IRU_LIQUIDJET/FLOW/BRONKHORST_SAMPLE2','measureCapacity.value'].xarray()\n",
    "    gas_flow = sel['SPB_IRU_LIQUIDJET/FLOW/BRONKHORST_1','measureCapacity.value'].xarray()\n",
    "    \n",
    "    directory = '/gpfs/exfel/u/scratch/SPB/202202/p003046/data' \n",
    "    agipd_frames_per_train = 202 # number of agipd frames per train\n",
    "    with h5py.File(directory+'/r%04d_proc_radavg.h5' % (r)) as rad: \n",
    "        radavg = rad['entry_1']['radialavg'][:]\n",
    "        trainIds = rad['entry_1']['trainId'][:]\n",
    "        q = rad['entry_1']['q'][:]\n",
    "    \n",
    "    # Reshape the arrays from the radavg file to make them by train\n",
    "    radavg = radavg.reshape((-1,agipd_frames_per_train,radavg.shape[1]))\n",
    "    trainIds = trainIds.reshape((-1,agipd_frames_per_train))\n",
    "    # Ensure all the trains are the same length\n",
    "    if (trainIds == trainIds[:,:1]).all() != True:\n",
    "        raise ValueError        \n",
    "    if(verbose):\n",
    "        print(\"Reshaping of radavg successful:\", (trainIds == trainIds[:,:1]).all())\n",
    "    trainIds = trainIds[:,0]\n",
    "    \n",
    "    # Put radavg in an xarray\n",
    "    radavg = xarray.DataArray(data=radavg, dims=('trainId', 'pulseNr', 'q'), \n",
    "                              coords={'trainId': trainIds, 'pulseNr': np.arange(agipd_frames_per_train), 'q': q})\n",
    "\n",
    "    # Find trains which are common between radavg and the rest\n",
    "    common_trains = np.intersect1d(intensity_sase1_extra.train_id_coordinates(), trainIds)\n",
    "    if verbose:\n",
    "        print(\"Found %d common train IDs between radavg and the rest\" % len(common_trains))\n",
    "\n",
    "    # Find the indices of the common trainIds and keep only those\n",
    "    common_train_idx = np.searchsorted(intensity_sase1_extra.train_id_coordinates(),common_trains)\n",
    "    motor_x = motor_x[common_train_idx]\n",
    "    motor_y = motor_y[common_train_idx]\n",
    "    xgm = xgm[common_train_idx]\n",
    "    liquid_flow[common_train_idx]\n",
    "    gas_flow[common_train_idx]\n",
    "\n",
    "    # Find the indices of the common trainIds for radavg    \n",
    "    common_train_idx = np.searchsorted(radavg.coords['trainId'].data,common_trains)\n",
    "    radavg = radavg[common_train_idx]\n",
    "    \n",
    "    train_ids_eq = (motor_x.coords['trainId'].data == radavg.coords['trainId'].data)\n",
    "    if verbose:\n",
    "        print(\"Train IDs all match:\", train_ids_eq.all())\n",
    "    \n",
    "    return xgm, motor_x, motor_y, radavg, xgm2, liquid_flow, gas_flow"
   ]
  },
  {
   "cell_type": "code",
   "execution_count": 4,
   "id": "b53b962a-523e-49aa-a434-0f0be57e69de",
   "metadata": {},
   "outputs": [],
   "source": [
    "\n",
    "def sync_pulses(xgm, radavg, xgm2):\n",
    "    # Find out how many X-ray pulses per train\n",
    "\n",
    "    npulses = np.sum(np.nanmean(xgm,axis=0) > 1.0)\n",
    "    # For certain runs we actually receive more than 176 pulses, but the agipd will only record 176   \n",
    "    npulses = min(npulses,176)\n",
    "    agipd_frames_per_pulse = 176//npulses\n",
    "    return xgm[:,:npulses], radavg[:,1:npulses*agipd_frames_per_pulse+1:agipd_frames_per_pulse,:], xgm2[:,:npulses]"
   ]
  },
  {
   "cell_type": "code",
   "execution_count": 5,
   "id": "bd72509b-0faf-42d4-9b6b-3c5e8cb3697d",
   "metadata": {},
   "outputs": [],
   "source": [
    "def integrate_q_range(radavg, q_min = 0.73, q_max = 13, verbose=True):\n",
    "    # q_min and q_max in 1/nm\n",
    "\n",
    "    q = radavg.coords['q'].data\n",
    "    q_min_idx = np.argmax(q > q_min)\n",
    "    q_max_idx = np.argmax(q > q_max)\n",
    "    \n",
    "    if(verbose):\n",
    "        print('Integrating between %g-%g 1/nm' % (q_min,q_max))   \n",
    "    I = xarray.DataArray(data=np.nansum(radavg[:,:,q_min_idx:q_max_idx],axis=2), dims=('trainId', 'pulseNr'), coords={'trainId': radavg.coords['trainId'], 'pulseNr': radavg.coords['pulseNr']})\n",
    "    return I"
   ]
  },
  {
   "cell_type": "code",
   "execution_count": 6,
   "id": "fc1129f6-5b69-4e2a-b218-eb3c996b6e01",
   "metadata": {},
   "outputs": [],
   "source": [
    "def combine_runs(runs, verbose=False):\n",
    "    comb_xgm = None\n",
    "    comb_motor_x = None\n",
    "    comb_motor_y = None\n",
    "    comb_radavg = None\n",
    "    comb_xgm2 = None\n",
    "    comb_I = None\n",
    "    comb_R2 = None\n",
    "    comb_slopes = None\n",
    "    comb_liquid_flow = None\n",
    "    comb_gas_flow = None\n",
    "    for run in runs:\n",
    "        xgm, motor_x, motor_y, radavg, xgm2, liquid_flow, gas_flow = read_run_sync_trains(run, verbose=verbose)\n",
    "        xgm, radavg, xgm2 = sync_pulses(xgm, radavg, xgm2)\n",
    "        I = integrate_q_range(radavg, verbose=False)\n",
    "        \n",
    "        if comb_I is None:\n",
    "            comb_I = I\n",
    "            comb_liquid_flow = liquid_flow\n",
    "            comb_gas_flow = gas_flow\n",
    "        else:\n",
    "            comb_I = xarray.concat((comb_I, I),'trainId')\n",
    "            comb_liquid_flow = xarray.concat((comb_liquid_flow, liquid_flow),'trainId')\n",
    "            comb_gas_flow = xarray.concat((comb_gas_flow, gas_flow),'trainId')\n",
    "\n",
    "        if comb_xgm is None:\n",
    "            comb_xgm = xgm\n",
    "        else:\n",
    "            comb_xgm = xarray.concat((comb_xgm, xgm),'trainId')            \n",
    "\n",
    "    return comb_xgm, comb_I, comb_liquid_flow, comb_gas_flow"
   ]
  },
  {
   "cell_type": "code",
   "execution_count": 7,
   "id": "fab6f8f7-48b4-4d52-98db-b96f1a83110d",
   "metadata": {},
   "outputs": [],
   "source": [
    "def linear_fit_trains(xgm, I, n=1, xgm_min = 0):\n",
    "    # Do a linear fit of the intensity I versus the xgm, n consecutive trains at a time\n",
    "    # The default is to do one train at a time (n=1)\n",
    "    slopes = np.zeros(int(np.ceil(xgm.shape[0]/n)))\n",
    "    intercept = np.zeros(int(np.ceil(xgm.shape[0]/n)))\n",
    "    R2 = np.zeros(int(np.ceil(xgm.shape[0]/n)))\n",
    "    RelError = np.zeros(int(np.ceil(xgm.shape[0]/n)))\n",
    "    Pearson_R = np.zeros(int(np.ceil(xgm.shape[0]/n)))\n",
    "    \n",
    "    for i,idx in enumerate(np.arange(0,xgm.shape[0],n)):\n",
    "        x = np.ravel(xgm.data[idx:idx+n])\n",
    "        y = np.ravel(I.data[idx:idx+n])\n",
    "        # Only take points with XGM > xgm_min uJ\n",
    "        mask = x > xgm_min\n",
    "        x = x[mask]\n",
    "        y = y[mask]\n",
    "        # Only take shots with more than 1500 uJ\n",
    "        fit = stats.linregress(x, y)\n",
    "\n",
    "                 \n",
    "        slopes[i] = fit.slope\n",
    "        intercept[i] = fit.intercept\n",
    "        R2[i] = fit.rvalue**2\n",
    "        fit_values = x*fit.slope + fit.intercept\n",
    "        RelError[i] = np.nanmean(np.abs((y - fit_values)/fit_values))\n",
    "    return slopes, intercept, R2, RelError"
   ]
  },
  {
   "cell_type": "code",
   "execution_count": 8,
   "id": "724528bc-499e-49fe-98d7-140639e6f551",
   "metadata": {},
   "outputs": [
    {
     "name": "stdout",
     "output_type": "stream",
     "text": [
      "# of trains:    3113\n",
      "Duration:       0:05:12.7\n",
      "First train ID: 1473643718\n",
      "Last train ID:  1473646844\n",
      "\n",
      "0 detector modules ()\n",
      "\n",
      "3 instrument sources (excluding detectors):\n",
      "  - SA1_XTD2_XGM/XGM/DOOCS:output\n",
      "  - SPB_EXP_ZYLA/CAM/1:daqOutput\n",
      "  - SPB_XTD9_XGM/XGM/DOOCS:output\n",
      "\n",
      "4 control sources:\n",
      "  - SPB_IRU_LIQUIDJET/FLOW/BRONKHORST_1\n",
      "  - SPB_IRU_LIQUIDJET/FLOW/BRONKHORST_SAMPLE2\n",
      "  - SPB_IRU_LIQUIDJET/FLOW/BRONKHORST_WASH1\n",
      "  - SPB_IRU_MOTORS/MDL/DATA_SELECT\n",
      "\n",
      "Reshaping of radavg successful: True\n",
      "Found 3113 common train IDs between radavg and the rest\n",
      "Train IDs all match: True\n",
      "# of trains:    3123\n",
      "Duration:       0:05:12.6\n",
      "First train ID: 1473646979\n",
      "Last train ID:  1473650104\n",
      "\n",
      "0 detector modules ()\n",
      "\n",
      "3 instrument sources (excluding detectors):\n",
      "  - SA1_XTD2_XGM/XGM/DOOCS:output\n",
      "  - SPB_EXP_ZYLA/CAM/1:daqOutput\n",
      "  - SPB_XTD9_XGM/XGM/DOOCS:output\n",
      "\n",
      "4 control sources:\n",
      "  - SPB_IRU_LIQUIDJET/FLOW/BRONKHORST_1\n",
      "  - SPB_IRU_LIQUIDJET/FLOW/BRONKHORST_SAMPLE2\n",
      "  - SPB_IRU_LIQUIDJET/FLOW/BRONKHORST_WASH1\n",
      "  - SPB_IRU_MOTORS/MDL/DATA_SELECT\n",
      "\n",
      "Reshaping of radavg successful: True\n",
      "Found 3123 common train IDs between radavg and the rest\n",
      "Train IDs all match: False\n",
      "# of trains:    2753\n",
      "Duration:       0:04:35.5\n",
      "First train ID: 1473650240\n",
      "Last train ID:  1473652994\n",
      "\n",
      "0 detector modules ()\n",
      "\n",
      "3 instrument sources (excluding detectors):\n",
      "  - SA1_XTD2_XGM/XGM/DOOCS:output\n",
      "  - SPB_EXP_ZYLA/CAM/1:daqOutput\n",
      "  - SPB_XTD9_XGM/XGM/DOOCS:output\n",
      "\n",
      "4 control sources:\n",
      "  - SPB_IRU_LIQUIDJET/FLOW/BRONKHORST_1\n",
      "  - SPB_IRU_LIQUIDJET/FLOW/BRONKHORST_SAMPLE2\n",
      "  - SPB_IRU_LIQUIDJET/FLOW/BRONKHORST_WASH1\n",
      "  - SPB_IRU_MOTORS/MDL/DATA_SELECT\n",
      "\n",
      "Reshaping of radavg successful: True\n",
      "Found 2753 common train IDs between radavg and the rest\n",
      "Train IDs all match: True\n"
     ]
    }
   ],
   "source": [
    "comb_xgm, comb_I, comb_liquid_flow, comb_gas_flow = combine_runs([84,85,86], verbose=True)"
   ]
  },
  {
   "cell_type": "code",
   "execution_count": 9,
   "id": "02315ea0-63a8-4f47-a504-158c3b12ec34",
   "metadata": {},
   "outputs": [
    {
     "name": "stdout",
     "output_type": "stream",
     "text": [
      "# of trains:    3109\n",
      "Duration:       0:05:12.7\n",
      "First train ID: 1475340148\n",
      "Last train ID:  1475343274\n",
      "\n",
      "0 detector modules ()\n",
      "\n",
      "3 instrument sources (excluding detectors):\n",
      "  - SA1_XTD2_XGM/XGM/DOOCS:output\n",
      "  - SPB_EXP_ZYLA/CAM/1:daqOutput\n",
      "  - SPB_XTD9_XGM/XGM/DOOCS:output\n",
      "\n",
      "4 control sources:\n",
      "  - SPB_IRU_LIQUIDJET/FLOW/BRONKHORST_1\n",
      "  - SPB_IRU_LIQUIDJET/FLOW/BRONKHORST_SAMPLE2\n",
      "  - SPB_IRU_LIQUIDJET/FLOW/BRONKHORST_WASH1\n",
      "  - SPB_IRU_MOTORS/MDL/DATA_SELECT\n",
      "\n",
      "Reshaping of radavg successful: True\n",
      "Found 3109 common train IDs between radavg and the rest\n",
      "Train IDs all match: True\n",
      "# of trains:    1045\n",
      "Duration:       0:01:44.5\n",
      "First train ID: 1475343409\n",
      "Last train ID:  1475344453\n",
      "\n",
      "0 detector modules ()\n",
      "\n",
      "3 instrument sources (excluding detectors):\n",
      "  - SA1_XTD2_XGM/XGM/DOOCS:output\n",
      "  - SPB_EXP_ZYLA/CAM/1:daqOutput\n",
      "  - SPB_XTD9_XGM/XGM/DOOCS:output\n",
      "\n",
      "4 control sources:\n",
      "  - SPB_IRU_LIQUIDJET/FLOW/BRONKHORST_1\n",
      "  - SPB_IRU_LIQUIDJET/FLOW/BRONKHORST_SAMPLE2\n",
      "  - SPB_IRU_LIQUIDJET/FLOW/BRONKHORST_WASH1\n",
      "  - SPB_IRU_MOTORS/MDL/DATA_SELECT\n",
      "\n",
      "Reshaping of radavg successful: True\n",
      "Found 1045 common train IDs between radavg and the rest\n",
      "Train IDs all match: True\n"
     ]
    }
   ],
   "source": [
    "comb_xgm_lj, comb_I_lj, comb_liquid_flow_lj, comb_gas_flow_lj = combine_runs([195,196], verbose=True)\n"
   ]
  },
  {
   "cell_type": "code",
   "execution_count": 10,
   "id": "5f9dad4d-ef50-4912-94cf-dab8056dd244",
   "metadata": {},
   "outputs": [],
   "source": [
    "# Skip the first 1500 trains as there's a step change (in position)\n",
    "comb_xgm_lj =comb_xgm_lj[1500:]\n",
    "comb_I_lj =comb_I_lj[1500:]\n",
    "comb_liquid_flow_lj =comb_liquid_flow_lj[1500:]\n",
    "comb_gas_flow_lj =comb_gas_flow_lj[1500:]"
   ]
  },
  {
   "cell_type": "code",
   "execution_count": 11,
   "id": "2594f2e6-142a-4e0a-b4cd-74760cdd9d25",
   "metadata": {},
   "outputs": [],
   "source": [
    "# Make sure the two runs are of the same size\n",
    "comb_xgm = comb_xgm[:comb_xgm_lj.shape[0]]\n",
    "comb_I = comb_I[:comb_I_lj.shape[0]]\n",
    "comb_liquid_flow = comb_liquid_flow[:comb_liquid_flow_lj.shape[0]]\n",
    "comb_gas_flow = comb_gas_flow[:comb_gas_flow_lj.shape[0]]"
   ]
  },
  {
   "cell_type": "code",
   "execution_count": 12,
   "id": "beb84a41-d69e-473d-b043-017d40753a37",
   "metadata": {},
   "outputs": [
    {
     "data": {
      "text/plain": [
       "[]"
      ]
     },
     "execution_count": 12,
     "metadata": {},
     "output_type": "execute_result"
    },
    {
     "data": {
      "image/png": "[encoded data removed]",
      "text/plain": [
       "<Figure size 432x288 with 1 Axes>"
      ]
     },
     "metadata": {
      "needs_background": "light"
     },
     "output_type": "display_data"
    }
   ],
   "source": [
    "import scipy.ndimage\n",
    "plt.figure()\n",
    "scale = 1.0/(np.mean(comb_I.data)/np.mean(comb_xgm.data))\n",
    "scale_lj = 1.0/(np.mean(comb_I_lj)/np.mean(comb_xgm_lj))\n",
    "npulses = len(comb_I.data.flatten())\n",
    "plt.plot(np.linspace(0,npulses//176, npulses),scale*scipy.ndimage.uniform_filter1d(comb_I.data.flatten()/comb_xgm.data.flatten(), size=50*comb_I.shape[1]))\n",
    "plt.plot(np.linspace(0,npulses//176, npulses),float(scale_lj)*scipy.ndimage.uniform_filter1d(comb_I_lj.data.flatten()/comb_xgm_lj.data.flatten(), size=50*comb_I.shape[1]))\n",
    "plt.xlabel('Train number')\n",
    "plt.ylabel('Normalized scattered intensity')\n",
    "plt.savefig('../figures/S1_xgm_normalized_I_50_trains.pdf')\n",
    "plt.plot()\n"
   ]
  },
  {
   "cell_type": "code",
   "execution_count": 13,
   "id": "8cfcaac4-ccfc-46bb-9e88-c49a7208c5cf",
   "metadata": {},
   "outputs": [
    {
     "name": "stdout",
     "output_type": "stream",
     "text": [
      "Standard deviation of GDVN signal - 0.134701\n",
      "Standard deviation of Liquid Sheet signal - 0.037201\n"
     ]
    },
    {
     "data": {
      "image/png": "[encoded data removed]",
      "text/plain": [
       "<Figure size 432x288 with 1 Axes>"
      ]
     },
     "metadata": {
      "needs_background": "light"
     },
     "output_type": "display_data"
    }
   ],
   "source": [
    "import scipy.ndimage\n",
    "plt.figure()\n",
    "\n",
    "\n",
    "plt.plot(scale*np.mean(comb_I.data, axis=1)/np.mean(comb_xgm.data, axis=1), label='GDVN')\n",
    "plt.plot(scale_lj*np.mean(comb_I_lj, axis=1)/np.mean(comb_xgm_lj, axis=1), label='Liquid Sheet')\n",
    "plt.legend(frameon=False)\n",
    "#plt.plot(np.mean(comb_xgm_lj, axis=1))\n",
    "#plt.plot(np.mean(comb_xgm, axis=1))\n",
    "plt.xlabel('Train number')\n",
    "plt.ylabel('Normalized scattered intensity')\n",
    "plt.savefig('../figures/2a_xgm_normalized_I.pdf')\n",
    "plt.plot()\n",
    "print(\"Standard deviation of GDVN signal - %f\" % (np.std(scale*np.mean(comb_I.data, axis=1)/np.mean(comb_xgm.data, axis=1))))\n",
    "print(\"Standard deviation of Liquid Sheet signal - %f\" % (np.std(scale_lj*np.mean(comb_I_lj, axis=1)/np.mean(comb_xgm_lj, axis=1))))"
   ]
  },
  {
   "cell_type": "code",
   "execution_count": null,
   "id": "c7ae840d",
   "metadata": {},
   "outputs": [],
   "source": []
  }
 ],
 "metadata": {
  "kernelspec": {
   "display_name": "xfel (current)",
   "language": "python",
   "name": "xfel-current"
  },
  "language_info": {
   "codemirror_mode": {
    "name": "ipython",
    "version": 3
   },
   "file_extension": ".py",
   "mimetype": "text/x-python",
   "name": "python",
   "nbconvert_exporter": "python",
   "pygments_lexer": "ipython3",
   "version": "3.9.16"
  }
 },
 "nbformat": 4,
 "nbformat_minor": 5
}
